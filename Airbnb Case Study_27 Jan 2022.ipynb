{
 "cells": [
  {
   "cell_type": "markdown",
   "id": "a55f878d",
   "metadata": {},
   "source": [
    "# Loading Libraries"
   ]
  },
  {
   "cell_type": "code",
   "execution_count": 1,
   "id": "06a58c84",
   "metadata": {},
   "outputs": [],
   "source": [
    "import numpy as np\n",
    "import pandas as pd\n",
    "import matplotlib.pyplot as plt\n",
    "import seaborn as sns\n",
    "\n",
    "import warnings\n",
    "warnings.filterwarnings('ignore')"
   ]
  },
  {
   "cell_type": "code",
   "execution_count": 2,
   "id": "80d8fd3c",
   "metadata": {},
   "outputs": [],
   "source": [
    "pd.set_option('display.max_rows', 500)\n",
    "pd.set_option('display.max_columns', 500)\n",
    "pd.set_option('display.width', 1000)"
   ]
  },
  {
   "cell_type": "markdown",
   "id": "796513cc",
   "metadata": {},
   "source": [
    "# Reading csv"
   ]
  },
  {
   "cell_type": "code",
   "execution_count": 3,
   "id": "8e6e778e",
   "metadata": {},
   "outputs": [
    {
     "name": "stdout",
     "output_type": "stream",
     "text": [
      "(48895, 16)\n"
     ]
    }
   ],
   "source": [
    "airbnb_data = pd.read_csv(r'/Users/shikhargoyal/Documents/Shikhar/Ug/Airbnb/AB_NYC_2019.csv')\n",
    "\n",
    "print(airbnb_data.shape)"
   ]
  },
  {
   "cell_type": "code",
   "execution_count": 4,
   "id": "59276192",
   "metadata": {},
   "outputs": [
    {
     "name": "stdout",
     "output_type": "stream",
     "text": [
      "<class 'pandas.core.frame.DataFrame'>\n",
      "RangeIndex: 48895 entries, 0 to 48894\n",
      "Data columns (total 16 columns):\n",
      " #   Column                          Non-Null Count  Dtype  \n",
      "---  ------                          --------------  -----  \n",
      " 0   id                              48895 non-null  int64  \n",
      " 1   name                            48879 non-null  object \n",
      " 2   host_id                         48895 non-null  int64  \n",
      " 3   host_name                       48874 non-null  object \n",
      " 4   neighbourhood_group             48895 non-null  object \n",
      " 5   neighbourhood                   48895 non-null  object \n",
      " 6   latitude                        48895 non-null  float64\n",
      " 7   longitude                       48895 non-null  float64\n",
      " 8   room_type                       48895 non-null  object \n",
      " 9   price                           48895 non-null  int64  \n",
      " 10  minimum_nights                  48895 non-null  int64  \n",
      " 11  number_of_reviews               48895 non-null  int64  \n",
      " 12  last_review                     38843 non-null  object \n",
      " 13  reviews_per_month               38843 non-null  float64\n",
      " 14  calculated_host_listings_count  48895 non-null  int64  \n",
      " 15  availability_365                48895 non-null  int64  \n",
      "dtypes: float64(3), int64(7), object(6)\n",
      "memory usage: 6.0+ MB\n"
     ]
    }
   ],
   "source": [
    "# checking the data types\n",
    "\n",
    "airbnb_data.info()"
   ]
  },
  {
   "cell_type": "code",
   "execution_count": 5,
   "id": "e8e61511",
   "metadata": {},
   "outputs": [
    {
     "data": {
      "text/html": [
       "<div>\n",
       "<style scoped>\n",
       "    .dataframe tbody tr th:only-of-type {\n",
       "        vertical-align: middle;\n",
       "    }\n",
       "\n",
       "    .dataframe tbody tr th {\n",
       "        vertical-align: top;\n",
       "    }\n",
       "\n",
       "    .dataframe thead th {\n",
       "        text-align: right;\n",
       "    }\n",
       "</style>\n",
       "<table border=\"1\" class=\"dataframe\">\n",
       "  <thead>\n",
       "    <tr style=\"text-align: right;\">\n",
       "      <th></th>\n",
       "      <th>id</th>\n",
       "      <th>host_id</th>\n",
       "      <th>latitude</th>\n",
       "      <th>longitude</th>\n",
       "      <th>price</th>\n",
       "      <th>minimum_nights</th>\n",
       "      <th>number_of_reviews</th>\n",
       "      <th>reviews_per_month</th>\n",
       "      <th>calculated_host_listings_count</th>\n",
       "      <th>availability_365</th>\n",
       "    </tr>\n",
       "  </thead>\n",
       "  <tbody>\n",
       "    <tr>\n",
       "      <th>count</th>\n",
       "      <td>4.889500e+04</td>\n",
       "      <td>4.889500e+04</td>\n",
       "      <td>48895.000000</td>\n",
       "      <td>48895.000000</td>\n",
       "      <td>48895.000000</td>\n",
       "      <td>48895.000000</td>\n",
       "      <td>48895.000000</td>\n",
       "      <td>38843.000000</td>\n",
       "      <td>48895.000000</td>\n",
       "      <td>48895.000000</td>\n",
       "    </tr>\n",
       "    <tr>\n",
       "      <th>mean</th>\n",
       "      <td>1.901714e+07</td>\n",
       "      <td>6.762001e+07</td>\n",
       "      <td>40.728949</td>\n",
       "      <td>-73.952170</td>\n",
       "      <td>152.720687</td>\n",
       "      <td>7.029962</td>\n",
       "      <td>23.274466</td>\n",
       "      <td>1.373221</td>\n",
       "      <td>7.143982</td>\n",
       "      <td>112.781327</td>\n",
       "    </tr>\n",
       "    <tr>\n",
       "      <th>std</th>\n",
       "      <td>1.098311e+07</td>\n",
       "      <td>7.861097e+07</td>\n",
       "      <td>0.054530</td>\n",
       "      <td>0.046157</td>\n",
       "      <td>240.154170</td>\n",
       "      <td>20.510550</td>\n",
       "      <td>44.550582</td>\n",
       "      <td>1.680442</td>\n",
       "      <td>32.952519</td>\n",
       "      <td>131.622289</td>\n",
       "    </tr>\n",
       "    <tr>\n",
       "      <th>min</th>\n",
       "      <td>2.539000e+03</td>\n",
       "      <td>2.438000e+03</td>\n",
       "      <td>40.499790</td>\n",
       "      <td>-74.244420</td>\n",
       "      <td>0.000000</td>\n",
       "      <td>1.000000</td>\n",
       "      <td>0.000000</td>\n",
       "      <td>0.010000</td>\n",
       "      <td>1.000000</td>\n",
       "      <td>0.000000</td>\n",
       "    </tr>\n",
       "    <tr>\n",
       "      <th>25%</th>\n",
       "      <td>9.471945e+06</td>\n",
       "      <td>7.822033e+06</td>\n",
       "      <td>40.690100</td>\n",
       "      <td>-73.983070</td>\n",
       "      <td>69.000000</td>\n",
       "      <td>1.000000</td>\n",
       "      <td>1.000000</td>\n",
       "      <td>0.190000</td>\n",
       "      <td>1.000000</td>\n",
       "      <td>0.000000</td>\n",
       "    </tr>\n",
       "    <tr>\n",
       "      <th>50%</th>\n",
       "      <td>1.967728e+07</td>\n",
       "      <td>3.079382e+07</td>\n",
       "      <td>40.723070</td>\n",
       "      <td>-73.955680</td>\n",
       "      <td>106.000000</td>\n",
       "      <td>3.000000</td>\n",
       "      <td>5.000000</td>\n",
       "      <td>0.720000</td>\n",
       "      <td>1.000000</td>\n",
       "      <td>45.000000</td>\n",
       "    </tr>\n",
       "    <tr>\n",
       "      <th>75%</th>\n",
       "      <td>2.915218e+07</td>\n",
       "      <td>1.074344e+08</td>\n",
       "      <td>40.763115</td>\n",
       "      <td>-73.936275</td>\n",
       "      <td>175.000000</td>\n",
       "      <td>5.000000</td>\n",
       "      <td>24.000000</td>\n",
       "      <td>2.020000</td>\n",
       "      <td>2.000000</td>\n",
       "      <td>227.000000</td>\n",
       "    </tr>\n",
       "    <tr>\n",
       "      <th>max</th>\n",
       "      <td>3.648724e+07</td>\n",
       "      <td>2.743213e+08</td>\n",
       "      <td>40.913060</td>\n",
       "      <td>-73.712990</td>\n",
       "      <td>10000.000000</td>\n",
       "      <td>1250.000000</td>\n",
       "      <td>629.000000</td>\n",
       "      <td>58.500000</td>\n",
       "      <td>327.000000</td>\n",
       "      <td>365.000000</td>\n",
       "    </tr>\n",
       "  </tbody>\n",
       "</table>\n",
       "</div>"
      ],
      "text/plain": [
       "                 id       host_id      latitude     longitude         price  minimum_nights  number_of_reviews  reviews_per_month  calculated_host_listings_count  availability_365\n",
       "count  4.889500e+04  4.889500e+04  48895.000000  48895.000000  48895.000000    48895.000000       48895.000000       38843.000000                    48895.000000      48895.000000\n",
       "mean   1.901714e+07  6.762001e+07     40.728949    -73.952170    152.720687        7.029962          23.274466           1.373221                        7.143982        112.781327\n",
       "std    1.098311e+07  7.861097e+07      0.054530      0.046157    240.154170       20.510550          44.550582           1.680442                       32.952519        131.622289\n",
       "min    2.539000e+03  2.438000e+03     40.499790    -74.244420      0.000000        1.000000           0.000000           0.010000                        1.000000          0.000000\n",
       "25%    9.471945e+06  7.822033e+06     40.690100    -73.983070     69.000000        1.000000           1.000000           0.190000                        1.000000          0.000000\n",
       "50%    1.967728e+07  3.079382e+07     40.723070    -73.955680    106.000000        3.000000           5.000000           0.720000                        1.000000         45.000000\n",
       "75%    2.915218e+07  1.074344e+08     40.763115    -73.936275    175.000000        5.000000          24.000000           2.020000                        2.000000        227.000000\n",
       "max    3.648724e+07  2.743213e+08     40.913060    -73.712990  10000.000000     1250.000000         629.000000          58.500000                      327.000000        365.000000"
      ]
     },
     "execution_count": 5,
     "metadata": {},
     "output_type": "execute_result"
    }
   ],
   "source": [
    "# checking the statistical info\n",
    "\n",
    "airbnb_data.describe()"
   ]
  },
  {
   "cell_type": "markdown",
   "id": "8b5f92b0",
   "metadata": {},
   "source": [
    "#### Average availability for Airbnb is ~113 days\n",
    "#### Average prie for an Airbnb is ~153$"
   ]
  },
  {
   "cell_type": "markdown",
   "id": "16e746b1",
   "metadata": {},
   "source": [
    "#### The costliest Airbnb is of 10k$"
   ]
  },
  {
   "cell_type": "markdown",
   "id": "f9159e6b",
   "metadata": {},
   "source": [
    "# Handling Missing values "
   ]
  },
  {
   "cell_type": "code",
   "execution_count": 6,
   "id": "528c447d",
   "metadata": {},
   "outputs": [
    {
     "data": {
      "text/plain": [
       "id                                 0.000000\n",
       "name                               0.032723\n",
       "host_id                            0.000000\n",
       "host_name                          0.042949\n",
       "neighbourhood_group                0.000000\n",
       "neighbourhood                      0.000000\n",
       "latitude                           0.000000\n",
       "longitude                          0.000000\n",
       "room_type                          0.000000\n",
       "price                              0.000000\n",
       "minimum_nights                     0.000000\n",
       "number_of_reviews                  0.000000\n",
       "last_review                       20.558339\n",
       "reviews_per_month                 20.558339\n",
       "calculated_host_listings_count     0.000000\n",
       "availability_365                   0.000000\n",
       "dtype: float64"
      ]
     },
     "execution_count": 6,
     "metadata": {},
     "output_type": "execute_result"
    }
   ],
   "source": [
    "# Checking the null values\n",
    "\n",
    "(100*(airbnb_data.isnull().sum())/len(airbnb_data.index))"
   ]
  },
  {
   "cell_type": "markdown",
   "id": "10c04563",
   "metadata": {},
   "source": [
    "### name, host_name, last_review , reviews_per_month columns have missing values which we need to impute"
   ]
  },
  {
   "cell_type": "code",
   "execution_count": 7,
   "id": "5df15dfd",
   "metadata": {},
   "outputs": [
    {
     "data": {
      "text/plain": [
       "['name', 'host_name', 'last_review', 'reviews_per_month']"
      ]
     },
     "execution_count": 7,
     "metadata": {},
     "output_type": "execute_result"
    }
   ],
   "source": [
    "# filtering column names having missing values\n",
    "L1 = []\n",
    "for i in airbnb_data.columns:\n",
    "    if (100*(airbnb_data[i].isnull().sum())/len(airbnb_data.index)):\n",
    "        L1.append(i)\n",
    "\n",
    "L1"
   ]
  },
  {
   "cell_type": "code",
   "execution_count": 8,
   "id": "e079ec1d",
   "metadata": {
    "scrolled": true
   },
   "outputs": [
    {
     "data": {
      "text/html": [
       "<div>\n",
       "<style scoped>\n",
       "    .dataframe tbody tr th:only-of-type {\n",
       "        vertical-align: middle;\n",
       "    }\n",
       "\n",
       "    .dataframe tbody tr th {\n",
       "        vertical-align: top;\n",
       "    }\n",
       "\n",
       "    .dataframe thead th {\n",
       "        text-align: right;\n",
       "    }\n",
       "</style>\n",
       "<table border=\"1\" class=\"dataframe\">\n",
       "  <thead>\n",
       "    <tr style=\"text-align: right;\">\n",
       "      <th></th>\n",
       "      <th>id</th>\n",
       "      <th>name</th>\n",
       "      <th>host_id</th>\n",
       "      <th>host_name</th>\n",
       "      <th>neighbourhood_group</th>\n",
       "      <th>neighbourhood</th>\n",
       "      <th>latitude</th>\n",
       "      <th>longitude</th>\n",
       "      <th>room_type</th>\n",
       "      <th>price</th>\n",
       "      <th>minimum_nights</th>\n",
       "      <th>number_of_reviews</th>\n",
       "      <th>last_review</th>\n",
       "      <th>reviews_per_month</th>\n",
       "      <th>calculated_host_listings_count</th>\n",
       "      <th>availability_365</th>\n",
       "    </tr>\n",
       "  </thead>\n",
       "  <tbody>\n",
       "    <tr>\n",
       "      <th>2854</th>\n",
       "      <td>1615764</td>\n",
       "      <td>NaN</td>\n",
       "      <td>6676776</td>\n",
       "      <td>Peter</td>\n",
       "      <td>Manhattan</td>\n",
       "      <td>Battery Park City</td>\n",
       "      <td>40.71239</td>\n",
       "      <td>-74.01620</td>\n",
       "      <td>Entire home/apt</td>\n",
       "      <td>400</td>\n",
       "      <td>1000</td>\n",
       "      <td>0</td>\n",
       "      <td>NaN</td>\n",
       "      <td>NaN</td>\n",
       "      <td>1</td>\n",
       "      <td>362</td>\n",
       "    </tr>\n",
       "    <tr>\n",
       "      <th>3703</th>\n",
       "      <td>2232600</td>\n",
       "      <td>NaN</td>\n",
       "      <td>11395220</td>\n",
       "      <td>Anna</td>\n",
       "      <td>Manhattan</td>\n",
       "      <td>East Village</td>\n",
       "      <td>40.73215</td>\n",
       "      <td>-73.98821</td>\n",
       "      <td>Entire home/apt</td>\n",
       "      <td>200</td>\n",
       "      <td>1</td>\n",
       "      <td>28</td>\n",
       "      <td>08-06-2015</td>\n",
       "      <td>0.45</td>\n",
       "      <td>1</td>\n",
       "      <td>341</td>\n",
       "    </tr>\n",
       "    <tr>\n",
       "      <th>5775</th>\n",
       "      <td>4209595</td>\n",
       "      <td>NaN</td>\n",
       "      <td>20700823</td>\n",
       "      <td>Jesse</td>\n",
       "      <td>Manhattan</td>\n",
       "      <td>Greenwich Village</td>\n",
       "      <td>40.73473</td>\n",
       "      <td>-73.99244</td>\n",
       "      <td>Entire home/apt</td>\n",
       "      <td>225</td>\n",
       "      <td>1</td>\n",
       "      <td>1</td>\n",
       "      <td>01-01-2015</td>\n",
       "      <td>0.02</td>\n",
       "      <td>1</td>\n",
       "      <td>0</td>\n",
       "    </tr>\n",
       "    <tr>\n",
       "      <th>5975</th>\n",
       "      <td>4370230</td>\n",
       "      <td>NaN</td>\n",
       "      <td>22686810</td>\n",
       "      <td>Michaël</td>\n",
       "      <td>Manhattan</td>\n",
       "      <td>Nolita</td>\n",
       "      <td>40.72046</td>\n",
       "      <td>-73.99550</td>\n",
       "      <td>Entire home/apt</td>\n",
       "      <td>215</td>\n",
       "      <td>7</td>\n",
       "      <td>5</td>\n",
       "      <td>02-01-2016</td>\n",
       "      <td>0.09</td>\n",
       "      <td>1</td>\n",
       "      <td>0</td>\n",
       "    </tr>\n",
       "    <tr>\n",
       "      <th>6269</th>\n",
       "      <td>4581788</td>\n",
       "      <td>NaN</td>\n",
       "      <td>21600904</td>\n",
       "      <td>Lucie</td>\n",
       "      <td>Brooklyn</td>\n",
       "      <td>Williamsburg</td>\n",
       "      <td>40.71370</td>\n",
       "      <td>-73.94378</td>\n",
       "      <td>Private room</td>\n",
       "      <td>150</td>\n",
       "      <td>1</td>\n",
       "      <td>0</td>\n",
       "      <td>NaN</td>\n",
       "      <td>NaN</td>\n",
       "      <td>1</td>\n",
       "      <td>0</td>\n",
       "    </tr>\n",
       "    <tr>\n",
       "      <th>6567</th>\n",
       "      <td>4756856</td>\n",
       "      <td>NaN</td>\n",
       "      <td>1832442</td>\n",
       "      <td>Carolina</td>\n",
       "      <td>Brooklyn</td>\n",
       "      <td>Bushwick</td>\n",
       "      <td>40.70046</td>\n",
       "      <td>-73.92825</td>\n",
       "      <td>Private room</td>\n",
       "      <td>70</td>\n",
       "      <td>1</td>\n",
       "      <td>0</td>\n",
       "      <td>NaN</td>\n",
       "      <td>NaN</td>\n",
       "      <td>1</td>\n",
       "      <td>0</td>\n",
       "    </tr>\n",
       "    <tr>\n",
       "      <th>6605</th>\n",
       "      <td>4774658</td>\n",
       "      <td>NaN</td>\n",
       "      <td>24625694</td>\n",
       "      <td>Josh</td>\n",
       "      <td>Manhattan</td>\n",
       "      <td>Washington Heights</td>\n",
       "      <td>40.85198</td>\n",
       "      <td>-73.93108</td>\n",
       "      <td>Private room</td>\n",
       "      <td>40</td>\n",
       "      <td>1</td>\n",
       "      <td>0</td>\n",
       "      <td>NaN</td>\n",
       "      <td>NaN</td>\n",
       "      <td>1</td>\n",
       "      <td>0</td>\n",
       "    </tr>\n",
       "    <tr>\n",
       "      <th>8841</th>\n",
       "      <td>6782407</td>\n",
       "      <td>NaN</td>\n",
       "      <td>31147528</td>\n",
       "      <td>Huei-Yin</td>\n",
       "      <td>Brooklyn</td>\n",
       "      <td>Williamsburg</td>\n",
       "      <td>40.71354</td>\n",
       "      <td>-73.93882</td>\n",
       "      <td>Private room</td>\n",
       "      <td>45</td>\n",
       "      <td>1</td>\n",
       "      <td>0</td>\n",
       "      <td>NaN</td>\n",
       "      <td>NaN</td>\n",
       "      <td>1</td>\n",
       "      <td>0</td>\n",
       "    </tr>\n",
       "    <tr>\n",
       "      <th>11963</th>\n",
       "      <td>9325951</td>\n",
       "      <td>NaN</td>\n",
       "      <td>33377685</td>\n",
       "      <td>Jonathan</td>\n",
       "      <td>Manhattan</td>\n",
       "      <td>Hell's Kitchen</td>\n",
       "      <td>40.76436</td>\n",
       "      <td>-73.98573</td>\n",
       "      <td>Entire home/apt</td>\n",
       "      <td>190</td>\n",
       "      <td>4</td>\n",
       "      <td>1</td>\n",
       "      <td>05-01-2016</td>\n",
       "      <td>0.02</td>\n",
       "      <td>1</td>\n",
       "      <td>0</td>\n",
       "    </tr>\n",
       "    <tr>\n",
       "      <th>12824</th>\n",
       "      <td>9787590</td>\n",
       "      <td>NaN</td>\n",
       "      <td>50448556</td>\n",
       "      <td>Miguel</td>\n",
       "      <td>Manhattan</td>\n",
       "      <td>Harlem</td>\n",
       "      <td>40.80316</td>\n",
       "      <td>-73.95189</td>\n",
       "      <td>Entire home/apt</td>\n",
       "      <td>300</td>\n",
       "      <td>5</td>\n",
       "      <td>0</td>\n",
       "      <td>NaN</td>\n",
       "      <td>NaN</td>\n",
       "      <td>5</td>\n",
       "      <td>0</td>\n",
       "    </tr>\n",
       "    <tr>\n",
       "      <th>13059</th>\n",
       "      <td>9885866</td>\n",
       "      <td>NaN</td>\n",
       "      <td>37306329</td>\n",
       "      <td>Juliette</td>\n",
       "      <td>Manhattan</td>\n",
       "      <td>Chinatown</td>\n",
       "      <td>40.71632</td>\n",
       "      <td>-73.99328</td>\n",
       "      <td>Private room</td>\n",
       "      <td>67</td>\n",
       "      <td>4</td>\n",
       "      <td>0</td>\n",
       "      <td>NaN</td>\n",
       "      <td>NaN</td>\n",
       "      <td>1</td>\n",
       "      <td>0</td>\n",
       "    </tr>\n",
       "    <tr>\n",
       "      <th>13401</th>\n",
       "      <td>10052289</td>\n",
       "      <td>NaN</td>\n",
       "      <td>49522403</td>\n",
       "      <td>Vanessa</td>\n",
       "      <td>Brooklyn</td>\n",
       "      <td>Brownsville</td>\n",
       "      <td>40.66409</td>\n",
       "      <td>-73.92314</td>\n",
       "      <td>Private room</td>\n",
       "      <td>50</td>\n",
       "      <td>3</td>\n",
       "      <td>3</td>\n",
       "      <td>18-08-2016</td>\n",
       "      <td>0.07</td>\n",
       "      <td>1</td>\n",
       "      <td>362</td>\n",
       "    </tr>\n",
       "    <tr>\n",
       "      <th>15819</th>\n",
       "      <td>12797684</td>\n",
       "      <td>NaN</td>\n",
       "      <td>69715276</td>\n",
       "      <td>Yan</td>\n",
       "      <td>Manhattan</td>\n",
       "      <td>Upper West Side</td>\n",
       "      <td>40.79843</td>\n",
       "      <td>-73.96404</td>\n",
       "      <td>Private room</td>\n",
       "      <td>100</td>\n",
       "      <td>1</td>\n",
       "      <td>0</td>\n",
       "      <td>NaN</td>\n",
       "      <td>NaN</td>\n",
       "      <td>2</td>\n",
       "      <td>0</td>\n",
       "    </tr>\n",
       "    <tr>\n",
       "      <th>16071</th>\n",
       "      <td>12988898</td>\n",
       "      <td>NaN</td>\n",
       "      <td>71552588</td>\n",
       "      <td>Andrea</td>\n",
       "      <td>Bronx</td>\n",
       "      <td>Fordham</td>\n",
       "      <td>40.86032</td>\n",
       "      <td>-73.88493</td>\n",
       "      <td>Shared room</td>\n",
       "      <td>130</td>\n",
       "      <td>1</td>\n",
       "      <td>0</td>\n",
       "      <td>NaN</td>\n",
       "      <td>NaN</td>\n",
       "      <td>1</td>\n",
       "      <td>365</td>\n",
       "    </tr>\n",
       "    <tr>\n",
       "      <th>18047</th>\n",
       "      <td>14135050</td>\n",
       "      <td>NaN</td>\n",
       "      <td>85288337</td>\n",
       "      <td>Jeff</td>\n",
       "      <td>Brooklyn</td>\n",
       "      <td>Bedford-Stuyvesant</td>\n",
       "      <td>40.69421</td>\n",
       "      <td>-73.93234</td>\n",
       "      <td>Private room</td>\n",
       "      <td>70</td>\n",
       "      <td>3</td>\n",
       "      <td>0</td>\n",
       "      <td>NaN</td>\n",
       "      <td>NaN</td>\n",
       "      <td>1</td>\n",
       "      <td>0</td>\n",
       "    </tr>\n",
       "    <tr>\n",
       "      <th>28889</th>\n",
       "      <td>22275821</td>\n",
       "      <td>NaN</td>\n",
       "      <td>49662398</td>\n",
       "      <td>Kathleen</td>\n",
       "      <td>Brooklyn</td>\n",
       "      <td>Bushwick</td>\n",
       "      <td>40.69546</td>\n",
       "      <td>-73.92741</td>\n",
       "      <td>Entire home/apt</td>\n",
       "      <td>110</td>\n",
       "      <td>4</td>\n",
       "      <td>5</td>\n",
       "      <td>13-08-2018</td>\n",
       "      <td>0.27</td>\n",
       "      <td>1</td>\n",
       "      <td>0</td>\n",
       "    </tr>\n",
       "  </tbody>\n",
       "</table>\n",
       "</div>"
      ],
      "text/plain": [
       "             id name   host_id host_name neighbourhood_group       neighbourhood  latitude  longitude        room_type  price  minimum_nights  number_of_reviews last_review  reviews_per_month  calculated_host_listings_count  availability_365\n",
       "2854    1615764  NaN   6676776     Peter           Manhattan   Battery Park City  40.71239  -74.01620  Entire home/apt    400            1000                  0         NaN                NaN                               1               362\n",
       "3703    2232600  NaN  11395220      Anna           Manhattan        East Village  40.73215  -73.98821  Entire home/apt    200               1                 28  08-06-2015               0.45                               1               341\n",
       "5775    4209595  NaN  20700823     Jesse           Manhattan   Greenwich Village  40.73473  -73.99244  Entire home/apt    225               1                  1  01-01-2015               0.02                               1                 0\n",
       "5975    4370230  NaN  22686810   Michaël           Manhattan              Nolita  40.72046  -73.99550  Entire home/apt    215               7                  5  02-01-2016               0.09                               1                 0\n",
       "6269    4581788  NaN  21600904     Lucie            Brooklyn        Williamsburg  40.71370  -73.94378     Private room    150               1                  0         NaN                NaN                               1                 0\n",
       "6567    4756856  NaN   1832442  Carolina            Brooklyn            Bushwick  40.70046  -73.92825     Private room     70               1                  0         NaN                NaN                               1                 0\n",
       "6605    4774658  NaN  24625694      Josh           Manhattan  Washington Heights  40.85198  -73.93108     Private room     40               1                  0         NaN                NaN                               1                 0\n",
       "8841    6782407  NaN  31147528  Huei-Yin            Brooklyn        Williamsburg  40.71354  -73.93882     Private room     45               1                  0         NaN                NaN                               1                 0\n",
       "11963   9325951  NaN  33377685  Jonathan           Manhattan      Hell's Kitchen  40.76436  -73.98573  Entire home/apt    190               4                  1  05-01-2016               0.02                               1                 0\n",
       "12824   9787590  NaN  50448556    Miguel           Manhattan              Harlem  40.80316  -73.95189  Entire home/apt    300               5                  0         NaN                NaN                               5                 0\n",
       "13059   9885866  NaN  37306329  Juliette           Manhattan           Chinatown  40.71632  -73.99328     Private room     67               4                  0         NaN                NaN                               1                 0\n",
       "13401  10052289  NaN  49522403   Vanessa            Brooklyn         Brownsville  40.66409  -73.92314     Private room     50               3                  3  18-08-2016               0.07                               1               362\n",
       "15819  12797684  NaN  69715276       Yan           Manhattan     Upper West Side  40.79843  -73.96404     Private room    100               1                  0         NaN                NaN                               2                 0\n",
       "16071  12988898  NaN  71552588    Andrea               Bronx             Fordham  40.86032  -73.88493      Shared room    130               1                  0         NaN                NaN                               1               365\n",
       "18047  14135050  NaN  85288337      Jeff            Brooklyn  Bedford-Stuyvesant  40.69421  -73.93234     Private room     70               3                  0         NaN                NaN                               1                 0\n",
       "28889  22275821  NaN  49662398  Kathleen            Brooklyn            Bushwick  40.69546  -73.92741  Entire home/apt    110               4                  5  13-08-2018               0.27                               1                 0"
      ]
     },
     "execution_count": 8,
     "metadata": {},
     "output_type": "execute_result"
    }
   ],
   "source": [
    "#checking the null values in for name column\n",
    "\n",
    "df1 = airbnb_data[airbnb_data['name'].isnull()]\n",
    "df1"
   ]
  },
  {
   "cell_type": "code",
   "execution_count": 9,
   "id": "b5365d71",
   "metadata": {},
   "outputs": [],
   "source": [
    "# As we don't have the name of the listing we will be filling the null values with \"Not available\" \n",
    "\n",
    "airbnb_data['name'].fillna('Not available', inplace=True)"
   ]
  },
  {
   "cell_type": "code",
   "execution_count": 10,
   "id": "9201bce7",
   "metadata": {},
   "outputs": [
    {
     "data": {
      "text/plain": [
       "0"
      ]
     },
     "execution_count": 10,
     "metadata": {},
     "output_type": "execute_result"
    }
   ],
   "source": [
    "# checking if the null values have been imputed\n",
    "# No missing values found\n",
    "\n",
    "airbnb_data['name'].isnull().sum()"
   ]
  },
  {
   "cell_type": "code",
   "execution_count": 11,
   "id": "c85d3c56",
   "metadata": {},
   "outputs": [],
   "source": [
    "# As we don't have the name of the host we will be filling the null values with \"Not available\" \n",
    "\n",
    "airbnb_data['host_name'].fillna('Not available', inplace=True)"
   ]
  },
  {
   "cell_type": "code",
   "execution_count": 12,
   "id": "0935aa52",
   "metadata": {},
   "outputs": [
    {
     "data": {
      "text/plain": [
       "0"
      ]
     },
     "execution_count": 12,
     "metadata": {},
     "output_type": "execute_result"
    }
   ],
   "source": [
    "# checking if the null values have been imputed\n",
    "# No missing values found\n",
    "\n",
    "airbnb_data['host_name'].isnull().sum()"
   ]
  },
  {
   "cell_type": "code",
   "execution_count": 13,
   "id": "8ab87b50",
   "metadata": {},
   "outputs": [],
   "source": [
    "# We can't impute the missing values for last_review column as the customer might not have given the rating so we can impute with blanks meaning no information available\n",
    "\n",
    "airbnb_data['last_review'].fillna('', inplace=True)"
   ]
  },
  {
   "cell_type": "code",
   "execution_count": 14,
   "id": "38690a99",
   "metadata": {},
   "outputs": [
    {
     "data": {
      "text/plain": [
       "0"
      ]
     },
     "execution_count": 14,
     "metadata": {},
     "output_type": "execute_result"
    }
   ],
   "source": [
    "# checking if the null values have been imputed\n",
    "# No missing values found\n",
    "\n",
    "airbnb_data['last_review'].isnull().sum()"
   ]
  },
  {
   "cell_type": "code",
   "execution_count": 15,
   "id": "58fa4f1a",
   "metadata": {},
   "outputs": [],
   "source": [
    "# As we can see that if number of reviews are 0 then review per month will also be 0 so imputing 'reviews_per_month' as 0\n",
    "\n",
    "airbnb_data['reviews_per_month'].fillna(0, inplace=True)"
   ]
  },
  {
   "cell_type": "code",
   "execution_count": 16,
   "id": "2398c01c",
   "metadata": {},
   "outputs": [
    {
     "data": {
      "text/plain": [
       "0"
      ]
     },
     "execution_count": 16,
     "metadata": {},
     "output_type": "execute_result"
    }
   ],
   "source": [
    "# checking if the null values have been imputed\n",
    "# No missing values found\n",
    "\n",
    "airbnb_data['reviews_per_month'].isnull().sum()"
   ]
  },
  {
   "cell_type": "code",
   "execution_count": 17,
   "id": "fd9f4887",
   "metadata": {},
   "outputs": [
    {
     "data": {
      "text/plain": [
       "id                                0.0\n",
       "name                              0.0\n",
       "host_id                           0.0\n",
       "host_name                         0.0\n",
       "neighbourhood_group               0.0\n",
       "neighbourhood                     0.0\n",
       "latitude                          0.0\n",
       "longitude                         0.0\n",
       "room_type                         0.0\n",
       "price                             0.0\n",
       "minimum_nights                    0.0\n",
       "number_of_reviews                 0.0\n",
       "last_review                       0.0\n",
       "reviews_per_month                 0.0\n",
       "calculated_host_listings_count    0.0\n",
       "availability_365                  0.0\n",
       "dtype: float64"
      ]
     },
     "execution_count": 17,
     "metadata": {},
     "output_type": "execute_result"
    }
   ],
   "source": [
    "# checking the null values in complete data after imputing the values\n",
    "\n",
    "\n",
    "(100*(airbnb_data.isnull().sum())/len(airbnb_data.index))"
   ]
  },
  {
   "cell_type": "markdown",
   "id": "38aa5ac1",
   "metadata": {},
   "source": [
    "### Imputed all the missing values"
   ]
  },
  {
   "cell_type": "markdown",
   "id": "704b88ea",
   "metadata": {},
   "source": [
    "## Visualizations"
   ]
  },
  {
   "cell_type": "code",
   "execution_count": 18,
   "id": "655aab67",
   "metadata": {},
   "outputs": [
    {
     "data": {
      "text/plain": [
       "219517861    327\n",
       "107434423    232\n",
       "30283594     121\n",
       "137358866    103\n",
       "16098958      96\n",
       "Name: host_id, dtype: int64"
      ]
     },
     "execution_count": 18,
     "metadata": {},
     "output_type": "execute_result"
    }
   ],
   "source": [
    "airbnb_data.host_id.value_counts().iloc[:5]"
   ]
  },
  {
   "cell_type": "markdown",
   "id": "6a4312bd",
   "metadata": {},
   "source": [
    "#### host_id 219517861 has maximum number of bookings "
   ]
  },
  {
   "cell_type": "code",
   "execution_count": 25,
   "id": "93eadad0",
   "metadata": {},
   "outputs": [
    {
     "data": {
      "image/png": "[encoded data removed]",
      "text/plain": [
       "<Figure size 432x288 with 1 Axes>"
      ]
     },
     "metadata": {
      "needs_background": "light"
     },
     "output_type": "display_data"
    }
   ],
   "source": [
    "# checking which neighbourhood more bookings\n",
    "\n",
    "sns.countplot(x=airbnb_data['neighbourhood_group'])\n",
    "plt.show()"
   ]
  },
  {
   "cell_type": "markdown",
   "id": "91dce7a7",
   "metadata": {},
   "source": [
    "#### Manhattan city has more no. of transactions whereas Staten Island and Bronx have very less transactions"
   ]
  },
  {
   "cell_type": "code",
   "execution_count": 29,
   "id": "22b545f7",
   "metadata": {},
   "outputs": [
    {
     "data": {
      "text/plain": [
       "<AxesSubplot:xlabel='room_type', ylabel='count'>"
      ]
     },
     "execution_count": 29,
     "metadata": {},
     "output_type": "execute_result"
    },
    {
     "data": {
      "image/png": "[encoded data removed]",
      "text/plain": [
       "<Figure size 432x288 with 1 Axes>"
      ]
     },
     "metadata": {
      "needs_background": "light"
     },
     "output_type": "display_data"
    }
   ],
   "source": [
    "# checking which room type\n",
    "\n",
    "sns.countplot(x=airbnb_data['room_type'])\n",
    "plt.show()"
   ]
  },
  {
   "cell_type": "markdown",
   "id": "b944fa58",
   "metadata": {},
   "source": [
    "#### Room type 'Entire home/apt' has more number of transactions as compared to private room and shared room\n",
    "#### Shared room has least number of transactions/bookings"
   ]
  },
  {
   "cell_type": "code",
   "execution_count": 36,
   "id": "9752dc03",
   "metadata": {},
   "outputs": [
    {
     "data": {
      "text/plain": [
       "Williamsburg          3920\n",
       "Bedford-Stuyvesant    3714\n",
       "Harlem                2658\n",
       "Bushwick              2465\n",
       "Upper West Side       1971\n",
       "Name: neighbourhood, dtype: int64"
      ]
     },
     "execution_count": 36,
     "metadata": {},
     "output_type": "execute_result"
    }
   ],
   "source": [
    "# checking most preferred neighbourhood\n",
    "df3= airbnb_data['neighbourhood'].value_counts().iloc[:5]\n",
    "df3"
   ]
  },
  {
   "cell_type": "code",
   "execution_count": 48,
   "id": "c9784429",
   "metadata": {},
   "outputs": [
    {
     "data": {
      "image/png": "[encoded data removed]",
      "text/plain": [
       "<Figure size 720x360 with 1 Axes>"
      ]
     },
     "metadata": {},
     "output_type": "display_data"
    }
   ],
   "source": [
    "df3.plot.pie(autopct='%1.0f%%',figsize=(10, 5))\n",
    "plt.show()"
   ]
  },
  {
   "cell_type": "markdown",
   "id": "a3b24c01",
   "metadata": {},
   "source": [
    "#### Williamsburg neighbourhood is the most preferred neighbourhood which has maximum number of bookings"
   ]
  },
  {
   "cell_type": "code",
   "execution_count": 69,
   "id": "6ae79786",
   "metadata": {},
   "outputs": [
    {
     "data": {
      "image/png": "[encoded data removed]",
      "text/plain": [
       "<Figure size 432x288 with 1 Axes>"
      ]
     },
     "metadata": {
      "needs_background": "light"
     },
     "output_type": "display_data"
    }
   ],
   "source": [
    "# checking which neighbourhood has min and max price\n",
    "\n",
    "df4 = airbnb_data.groupby(['neighbourhood_group']).agg('sum')\n",
    "df4.reset_index(inplace=True)\n",
    "df4[['neighbourhood_group','price']].sort_values(by='price',ascending = False)\n",
    "sns.barplot(x=df4['neighbourhood_group'],y=df4['price'])\n",
    "plt.show()"
   ]
  },
  {
   "cell_type": "code",
   "execution_count": 70,
   "id": "6315faa2",
   "metadata": {},
   "outputs": [
    {
     "data": {
      "text/html": [
       "<div>\n",
       "<style scoped>\n",
       "    .dataframe tbody tr th:only-of-type {\n",
       "        vertical-align: middle;\n",
       "    }\n",
       "\n",
       "    .dataframe tbody tr th {\n",
       "        vertical-align: top;\n",
       "    }\n",
       "\n",
       "    .dataframe thead th {\n",
       "        text-align: right;\n",
       "    }\n",
       "</style>\n",
       "<table border=\"1\" class=\"dataframe\">\n",
       "  <thead>\n",
       "    <tr style=\"text-align: right;\">\n",
       "      <th></th>\n",
       "      <th>neighbourhood_group</th>\n",
       "      <th>price</th>\n",
       "    </tr>\n",
       "  </thead>\n",
       "  <tbody>\n",
       "    <tr>\n",
       "      <th>0</th>\n",
       "      <td>Bronx</td>\n",
       "      <td>95459</td>\n",
       "    </tr>\n",
       "    <tr>\n",
       "      <th>1</th>\n",
       "      <td>Brooklyn</td>\n",
       "      <td>2500600</td>\n",
       "    </tr>\n",
       "    <tr>\n",
       "      <th>2</th>\n",
       "      <td>Manhattan</td>\n",
       "      <td>4264527</td>\n",
       "    </tr>\n",
       "    <tr>\n",
       "      <th>3</th>\n",
       "      <td>Queens</td>\n",
       "      <td>563867</td>\n",
       "    </tr>\n",
       "    <tr>\n",
       "      <th>4</th>\n",
       "      <td>Staten Island</td>\n",
       "      <td>42825</td>\n",
       "    </tr>\n",
       "  </tbody>\n",
       "</table>\n",
       "</div>"
      ],
      "text/plain": [
       "  neighbourhood_group    price\n",
       "0               Bronx    95459\n",
       "1            Brooklyn  2500600\n",
       "2           Manhattan  4264527\n",
       "3              Queens   563867\n",
       "4       Staten Island    42825"
      ]
     },
     "execution_count": 70,
     "metadata": {},
     "output_type": "execute_result"
    }
   ],
   "source": [
    "df4[['neighbourhood_group','price']]"
   ]
  },
  {
   "cell_type": "markdown",
   "id": "8be6d4cf",
   "metadata": {},
   "source": [
    "#### Manhattan city area has the high prices\n",
    "#### Bronx and Staten Island has low prices"
   ]
  },
  {
   "cell_type": "code",
   "execution_count": 73,
   "id": "6e121020",
   "metadata": {
    "scrolled": true
   },
   "outputs": [
    {
     "data": {
      "text/html": [
       "<div>\n",
       "<style scoped>\n",
       "    .dataframe tbody tr th:only-of-type {\n",
       "        vertical-align: middle;\n",
       "    }\n",
       "\n",
       "    .dataframe tbody tr th {\n",
       "        vertical-align: top;\n",
       "    }\n",
       "\n",
       "    .dataframe thead th {\n",
       "        text-align: right;\n",
       "    }\n",
       "</style>\n",
       "<table border=\"1\" class=\"dataframe\">\n",
       "  <thead>\n",
       "    <tr style=\"text-align: right;\">\n",
       "      <th></th>\n",
       "      <th>id</th>\n",
       "      <th>name</th>\n",
       "      <th>host_id</th>\n",
       "      <th>host_name</th>\n",
       "      <th>neighbourhood_group</th>\n",
       "      <th>neighbourhood</th>\n",
       "      <th>latitude</th>\n",
       "      <th>longitude</th>\n",
       "      <th>room_type</th>\n",
       "      <th>price</th>\n",
       "      <th>minimum_nights</th>\n",
       "      <th>number_of_reviews</th>\n",
       "      <th>last_review</th>\n",
       "      <th>reviews_per_month</th>\n",
       "      <th>calculated_host_listings_count</th>\n",
       "      <th>availability_365</th>\n",
       "    </tr>\n",
       "  </thead>\n",
       "  <tbody>\n",
       "    <tr>\n",
       "      <th>9151</th>\n",
       "      <td>7003697</td>\n",
       "      <td>Furnished room in Astoria apartment</td>\n",
       "      <td>20582832</td>\n",
       "      <td>Kathrine</td>\n",
       "      <td>Queens</td>\n",
       "      <td>Astoria</td>\n",
       "      <td>40.76810</td>\n",
       "      <td>-73.91651</td>\n",
       "      <td>Private room</td>\n",
       "      <td>10000</td>\n",
       "      <td>100</td>\n",
       "      <td>2</td>\n",
       "      <td>13-02-2016</td>\n",
       "      <td>0.04</td>\n",
       "      <td>1</td>\n",
       "      <td>0</td>\n",
       "    </tr>\n",
       "    <tr>\n",
       "      <th>17692</th>\n",
       "      <td>13894339</td>\n",
       "      <td>Luxury 1 bedroom apt. -stunning Manhattan views</td>\n",
       "      <td>5143901</td>\n",
       "      <td>Erin</td>\n",
       "      <td>Brooklyn</td>\n",
       "      <td>Greenpoint</td>\n",
       "      <td>40.73260</td>\n",
       "      <td>-73.95739</td>\n",
       "      <td>Entire home/apt</td>\n",
       "      <td>10000</td>\n",
       "      <td>5</td>\n",
       "      <td>5</td>\n",
       "      <td>27-07-2017</td>\n",
       "      <td>0.16</td>\n",
       "      <td>1</td>\n",
       "      <td>0</td>\n",
       "    </tr>\n",
       "    <tr>\n",
       "      <th>29238</th>\n",
       "      <td>22436899</td>\n",
       "      <td>1-BR Lincoln Center</td>\n",
       "      <td>72390391</td>\n",
       "      <td>Jelena</td>\n",
       "      <td>Manhattan</td>\n",
       "      <td>Upper West Side</td>\n",
       "      <td>40.77213</td>\n",
       "      <td>-73.98665</td>\n",
       "      <td>Entire home/apt</td>\n",
       "      <td>10000</td>\n",
       "      <td>30</td>\n",
       "      <td>0</td>\n",
       "      <td></td>\n",
       "      <td>0.00</td>\n",
       "      <td>1</td>\n",
       "      <td>83</td>\n",
       "    </tr>\n",
       "  </tbody>\n",
       "</table>\n",
       "</div>"
      ],
      "text/plain": [
       "             id                                             name   host_id host_name neighbourhood_group    neighbourhood  latitude  longitude        room_type  price  minimum_nights  number_of_reviews last_review  reviews_per_month  calculated_host_listings_count  availability_365\n",
       "9151    7003697              Furnished room in Astoria apartment  20582832  Kathrine              Queens          Astoria  40.76810  -73.91651     Private room  10000             100                  2  13-02-2016               0.04                               1                 0\n",
       "17692  13894339  Luxury 1 bedroom apt. -stunning Manhattan views   5143901      Erin            Brooklyn       Greenpoint  40.73260  -73.95739  Entire home/apt  10000               5                  5  27-07-2017               0.16                               1                 0\n",
       "29238  22436899                              1-BR Lincoln Center  72390391    Jelena           Manhattan  Upper West Side  40.77213  -73.98665  Entire home/apt  10000              30                  0                           0.00                               1                83"
      ]
     },
     "execution_count": 73,
     "metadata": {},
     "output_type": "execute_result"
    }
   ],
   "source": [
    "df6 = airbnb_data[airbnb_data['price'] == airbnb_data['price'].max()]\n",
    "df6"
   ]
  },
  {
   "cell_type": "markdown",
   "id": "95a13688",
   "metadata": {},
   "source": [
    "#### Room_type \"Entire home/apt\" has the highest price"
   ]
  },
  {
   "cell_type": "code",
   "execution_count": 74,
   "id": "21cb7b8b",
   "metadata": {},
   "outputs": [
    {
     "data": {
      "text/html": [
       "<div>\n",
       "<style scoped>\n",
       "    .dataframe tbody tr th:only-of-type {\n",
       "        vertical-align: middle;\n",
       "    }\n",
       "\n",
       "    .dataframe tbody tr th {\n",
       "        vertical-align: top;\n",
       "    }\n",
       "\n",
       "    .dataframe thead th {\n",
       "        text-align: right;\n",
       "    }\n",
       "</style>\n",
       "<table border=\"1\" class=\"dataframe\">\n",
       "  <thead>\n",
       "    <tr style=\"text-align: right;\">\n",
       "      <th></th>\n",
       "      <th>id</th>\n",
       "      <th>name</th>\n",
       "      <th>host_id</th>\n",
       "      <th>host_name</th>\n",
       "      <th>neighbourhood_group</th>\n",
       "      <th>neighbourhood</th>\n",
       "      <th>latitude</th>\n",
       "      <th>longitude</th>\n",
       "      <th>room_type</th>\n",
       "      <th>price</th>\n",
       "      <th>minimum_nights</th>\n",
       "      <th>number_of_reviews</th>\n",
       "      <th>last_review</th>\n",
       "      <th>reviews_per_month</th>\n",
       "      <th>calculated_host_listings_count</th>\n",
       "      <th>availability_365</th>\n",
       "    </tr>\n",
       "  </thead>\n",
       "  <tbody>\n",
       "    <tr>\n",
       "      <th>11759</th>\n",
       "      <td>9145202</td>\n",
       "      <td>Room near JFK Queen Bed</td>\n",
       "      <td>47621202</td>\n",
       "      <td>Dona</td>\n",
       "      <td>Queens</td>\n",
       "      <td>Jamaica</td>\n",
       "      <td>40.6673</td>\n",
       "      <td>-73.76831</td>\n",
       "      <td>Private room</td>\n",
       "      <td>47</td>\n",
       "      <td>1</td>\n",
       "      <td>629</td>\n",
       "      <td>05-07-2019</td>\n",
       "      <td>14.58</td>\n",
       "      <td>2</td>\n",
       "      <td>333</td>\n",
       "    </tr>\n",
       "  </tbody>\n",
       "</table>\n",
       "</div>"
      ],
      "text/plain": [
       "            id                     name   host_id host_name neighbourhood_group neighbourhood  latitude  longitude     room_type  price  minimum_nights  number_of_reviews last_review  reviews_per_month  calculated_host_listings_count  availability_365\n",
       "11759  9145202  Room near JFK Queen Bed  47621202      Dona              Queens       Jamaica   40.6673  -73.76831  Private room     47               1                629  05-07-2019              14.58                               2               333"
      ]
     },
     "execution_count": 74,
     "metadata": {},
     "output_type": "execute_result"
    }
   ],
   "source": [
    "# checking which Airbnb has highest no. of reviews\n",
    "\n",
    "df7 = airbnb_data[airbnb_data['number_of_reviews'] == airbnb_data['number_of_reviews'].max()]\n",
    "df7"
   ]
  },
  {
   "cell_type": "markdown",
   "id": "4959e161",
   "metadata": {},
   "source": [
    "#### 1 Airbnb has highest number of reviewes with price 47$ room type \"private room\""
   ]
  },
  {
   "cell_type": "code",
   "execution_count": 76,
   "id": "29fe608a",
   "metadata": {},
   "outputs": [
    {
     "data": {
      "text/plain": [
       "0      17533\n",
       "365     1295\n",
       "364      491\n",
       "1        408\n",
       "89       361\n",
       "5        340\n",
       "3        306\n",
       "179      301\n",
       "90       290\n",
       "2        270\n",
       "6        245\n",
       "363      239\n",
       "8        233\n",
       "4        233\n",
       "342      230\n",
       "188      225\n",
       "7        219\n",
       "88       200\n",
       "311      199\n",
       "341      199\n",
       "9        193\n",
       "180      192\n",
       "83       183\n",
       "358      180\n",
       "14       173\n",
       "11       173\n",
       "12       172\n",
       "332      171\n",
       "35       168\n",
       "362      166\n",
       "10       165\n",
       "13       162\n",
       "15       159\n",
       "189      157\n",
       "310      156\n",
       "333      154\n",
       "16       151\n",
       "87       150\n",
       "66       143\n",
       "36       141\n",
       "23       135\n",
       "359      135\n",
       "19       135\n",
       "20       134\n",
       "157      134\n",
       "343      134\n",
       "34       134\n",
       "24       131\n",
       "32       130\n",
       "17       130\n",
       "22       129\n",
       "21       128\n",
       "31       127\n",
       "38       125\n",
       "18       125\n",
       "281      123\n",
       "177      120\n",
       "37       119\n",
       "249      118\n",
       "280      114\n",
       "64       113\n",
       "29       113\n",
       "67       112\n",
       "361      111\n",
       "43       111\n",
       "345      111\n",
       "331      110\n",
       "81       110\n",
       "339      109\n",
       "84       108\n",
       "30       108\n",
       "28       108\n",
       "347      105\n",
       "173      105\n",
       "325      104\n",
       "156      104\n",
       "326      103\n",
       "27       103\n",
       "42       102\n",
       "351      102\n",
       "340      102\n",
       "360      102\n",
       "346      101\n",
       "54       101\n",
       "26       101\n",
       "312      100\n",
       "48       100\n",
       "178       99\n",
       "354       99\n",
       "338       99\n",
       "80        98\n",
       "44        97\n",
       "53        96\n",
       "336       95\n",
       "125       95\n",
       "357       95\n",
       "77        94\n",
       "352       93\n",
       "85        93\n",
       "318       92\n",
       "45        92\n",
       "25        92\n",
       "60        91\n",
       "327       91\n",
       "78        91\n",
       "330       91\n",
       "65        91\n",
       "52        91\n",
       "50        90\n",
       "41        90\n",
       "329       89\n",
       "323       89\n",
       "33        89\n",
       "337       89\n",
       "55        89\n",
       "39        88\n",
       "58        88\n",
       "74        88\n",
       "353       88\n",
       "76        88\n",
       "68        87\n",
       "158       87\n",
       "49        87\n",
       "324       86\n",
       "86        86\n",
       "51        85\n",
       "335       85\n",
       "63        85\n",
       "334       84\n",
       "355       84\n",
       "220       84\n",
       "40        83\n",
       "59        83\n",
       "349       82\n",
       "282       82\n",
       "46        82\n",
       "71        81\n",
       "348       81\n",
       "69        81\n",
       "321       81\n",
       "319       81\n",
       "61        80\n",
       "170       80\n",
       "317       80\n",
       "322       80\n",
       "344       80\n",
       "79        79\n",
       "270       79\n",
       "82        79\n",
       "73        78\n",
       "356       78\n",
       "70        78\n",
       "328       78\n",
       "95        77\n",
       "250       77\n",
       "57        76\n",
       "72        76\n",
       "269       75\n",
       "56        75\n",
       "175       73\n",
       "155       72\n",
       "176       72\n",
       "308       72\n",
       "320       71\n",
       "350       70\n",
       "62        70\n",
       "75        70\n",
       "283       70\n",
       "128       69\n",
       "174       68\n",
       "297       68\n",
       "292       68\n",
       "316       67\n",
       "126       67\n",
       "302       67\n",
       "161       67\n",
       "247       66\n",
       "47        66\n",
       "129       66\n",
       "219       65\n",
       "160       65\n",
       "167       64\n",
       "267       64\n",
       "257       64\n",
       "313       63\n",
       "301       63\n",
       "127       62\n",
       "263       62\n",
       "252       62\n",
       "246       61\n",
       "305       61\n",
       "255       61\n",
       "171       60\n",
       "284       60\n",
       "268       60\n",
       "273       60\n",
       "164       60\n",
       "314       59\n",
       "96        59\n",
       "300       59\n",
       "151       59\n",
       "97        59\n",
       "98        59\n",
       "242       59\n",
       "166       59\n",
       "307       59\n",
       "244       59\n",
       "163       59\n",
       "309       58\n",
       "251       58\n",
       "105       57\n",
       "296       57\n",
       "264       57\n",
       "303       57\n",
       "304       57\n",
       "146       56\n",
       "258       56\n",
       "298       56\n",
       "159       55\n",
       "261       55\n",
       "248       55\n",
       "275       54\n",
       "294       54\n",
       "272       54\n",
       "315       54\n",
       "133       54\n",
       "271       53\n",
       "299       53\n",
       "266       53\n",
       "238       53\n",
       "147       53\n",
       "236       53\n",
       "168       53\n",
       "235       53\n",
       "139       52\n",
       "293       52\n",
       "288       52\n",
       "287       52\n",
       "140       52\n",
       "285       52\n",
       "215       52\n",
       "306       51\n",
       "262       51\n",
       "254       51\n",
       "112       51\n",
       "278       51\n",
       "279       51\n",
       "290       51\n",
       "132       51\n",
       "245       51\n",
       "134       50\n",
       "154       50\n",
       "253       50\n",
       "93        50\n",
       "152       50\n",
       "135       50\n",
       "145       50\n",
       "91        50\n",
       "211       50\n",
       "153       50\n",
       "99        50\n",
       "123       49\n",
       "192       49\n",
       "265       49\n",
       "216       49\n",
       "260       48\n",
       "162       48\n",
       "169       48\n",
       "237       48\n",
       "221       48\n",
       "165       48\n",
       "230       48\n",
       "185       48\n",
       "193       47\n",
       "256       47\n",
       "172       47\n",
       "191       47\n",
       "291       47\n",
       "102       47\n",
       "233       47\n",
       "101       46\n",
       "120       46\n",
       "213       46\n",
       "142       46\n",
       "274       46\n",
       "144       46\n",
       "137       46\n",
       "124       45\n",
       "149       45\n",
       "239       45\n",
       "110       45\n",
       "116       45\n",
       "217       44\n",
       "231       44\n",
       "141       44\n",
       "121       44\n",
       "201       44\n",
       "286       44\n",
       "204       44\n",
       "207       43\n",
       "277       43\n",
       "234       43\n",
       "107       43\n",
       "243       43\n",
       "225       43\n",
       "276       42\n",
       "199       42\n",
       "130       42\n",
       "92        42\n",
       "222       42\n",
       "138       42\n",
       "115       41\n",
       "94        41\n",
       "229       41\n",
       "295       41\n",
       "232       41\n",
       "190       41\n",
       "197       40\n",
       "113       40\n",
       "106       40\n",
       "117       40\n",
       "118       40\n",
       "208       39\n",
       "241       39\n",
       "148       38\n",
       "205       38\n",
       "131       38\n",
       "103       38\n",
       "224       38\n",
       "150       38\n",
       "100       37\n",
       "184       37\n",
       "198       37\n",
       "209       36\n",
       "203       36\n",
       "109       36\n",
       "212       36\n",
       "226       36\n",
       "228       36\n",
       "136       36\n",
       "108       35\n",
       "259       35\n",
       "119       35\n",
       "240       35\n",
       "223       35\n",
       "200       35\n",
       "187       34\n",
       "218       34\n",
       "289       34\n",
       "214       33\n",
       "104       33\n",
       "194       33\n",
       "111       33\n",
       "122       33\n",
       "227       32\n",
       "114       32\n",
       "210       32\n",
       "186       31\n",
       "206       31\n",
       "182       31\n",
       "143       30\n",
       "195       26\n",
       "183       24\n",
       "196       24\n",
       "181       23\n",
       "202       20\n",
       "Name: availability_365, dtype: int64"
      ]
     },
     "execution_count": 76,
     "metadata": {},
     "output_type": "execute_result"
    }
   ],
   "source": [
    "# checking the number of days when listing is available for booking\n",
    "\n",
    "airbnb_data['availability_365'].value_counts()"
   ]
  },
  {
   "cell_type": "markdown",
   "id": "267b7bcb",
   "metadata": {},
   "source": [
    "#### Around 1295 Airbnbs have min availability of 365 days "
   ]
  },
  {
   "cell_type": "markdown",
   "id": "8dfc52de",
   "metadata": {},
   "source": [
    "## Bivariate Analysis"
   ]
  },
  {
   "cell_type": "code",
   "execution_count": 79,
   "id": "cccc6504",
   "metadata": {},
   "outputs": [
    {
     "data": {
      "image/png": "[encoded data removed]",
      "text/plain": [
       "<Figure size 1080x720 with 2 Axes>"
      ]
     },
     "metadata": {
      "needs_background": "light"
     },
     "output_type": "display_data"
    }
   ],
   "source": [
    "# plotting the heat map\n",
    "\n",
    "plt.figure(figsize=(15,10))\n",
    "sns.heatmap(airbnb_data.corr(), annot=True)\n",
    "plt.show()"
   ]
  },
  {
   "cell_type": "code",
   "execution_count": 80,
   "id": "ad9055c8",
   "metadata": {},
   "outputs": [
    {
     "data": {
      "text/plain": [
       "<AxesSubplot:xlabel='room_type', ylabel='count'>"
      ]
     },
     "execution_count": 80,
     "metadata": {},
     "output_type": "execute_result"
    },
    {
     "data": {
      "image/png": "[encoded data removed]",
      "text/plain": [
       "<Figure size 720x432 with 1 Axes>"
      ]
     },
     "metadata": {
      "needs_background": "light"
     },
     "output_type": "display_data"
    }
   ],
   "source": [
    "plt.figure(figsize=(10,5))\n",
    "sns.countplot(data = airbnb_data, x = 'room_type', hue = 'neighbourhood_group')\n",
    "plt.show()"
   ]
  },
  {
   "cell_type": "markdown",
   "id": "529e3d48",
   "metadata": {},
   "source": [
    "#### In Manhattan most number of bookings are of Entire home/apt room type and in Broolyn Private rooms more preferred"
   ]
  },
  {
   "cell_type": "code",
   "execution_count": 82,
   "id": "46f348a3",
   "metadata": {},
   "outputs": [],
   "source": [
    "outlier_Ananlysis=airbnb_data[['price','minimum_nights','number_of_reviews','reviews_per_month','calculated_host_listings_count','availability_365']].quantile(q=[0.25, 0.5,0.75,0.95,0.99])"
   ]
  },
  {
   "cell_type": "code",
   "execution_count": 83,
   "id": "a75f4d1f",
   "metadata": {
    "scrolled": true
   },
   "outputs": [
    {
     "data": {
      "text/html": [
       "<div>\n",
       "<style scoped>\n",
       "    .dataframe tbody tr th:only-of-type {\n",
       "        vertical-align: middle;\n",
       "    }\n",
       "\n",
       "    .dataframe tbody tr th {\n",
       "        vertical-align: top;\n",
       "    }\n",
       "\n",
       "    .dataframe thead th {\n",
       "        text-align: right;\n",
       "    }\n",
       "</style>\n",
       "<table border=\"1\" class=\"dataframe\">\n",
       "  <thead>\n",
       "    <tr style=\"text-align: right;\">\n",
       "      <th></th>\n",
       "      <th>price</th>\n",
       "      <th>minimum_nights</th>\n",
       "      <th>number_of_reviews</th>\n",
       "      <th>reviews_per_month</th>\n",
       "      <th>calculated_host_listings_count</th>\n",
       "      <th>availability_365</th>\n",
       "    </tr>\n",
       "  </thead>\n",
       "  <tbody>\n",
       "    <tr>\n",
       "      <th>0.25</th>\n",
       "      <td>69.0</td>\n",
       "      <td>1.0</td>\n",
       "      <td>1.0</td>\n",
       "      <td>0.04</td>\n",
       "      <td>1.0</td>\n",
       "      <td>0.0</td>\n",
       "    </tr>\n",
       "    <tr>\n",
       "      <th>0.50</th>\n",
       "      <td>106.0</td>\n",
       "      <td>3.0</td>\n",
       "      <td>5.0</td>\n",
       "      <td>0.37</td>\n",
       "      <td>1.0</td>\n",
       "      <td>45.0</td>\n",
       "    </tr>\n",
       "    <tr>\n",
       "      <th>0.75</th>\n",
       "      <td>175.0</td>\n",
       "      <td>5.0</td>\n",
       "      <td>24.0</td>\n",
       "      <td>1.58</td>\n",
       "      <td>2.0</td>\n",
       "      <td>227.0</td>\n",
       "    </tr>\n",
       "    <tr>\n",
       "      <th>0.95</th>\n",
       "      <td>355.0</td>\n",
       "      <td>30.0</td>\n",
       "      <td>114.0</td>\n",
       "      <td>4.31</td>\n",
       "      <td>15.0</td>\n",
       "      <td>359.0</td>\n",
       "    </tr>\n",
       "    <tr>\n",
       "      <th>0.99</th>\n",
       "      <td>799.0</td>\n",
       "      <td>45.0</td>\n",
       "      <td>214.0</td>\n",
       "      <td>6.80</td>\n",
       "      <td>232.0</td>\n",
       "      <td>365.0</td>\n",
       "    </tr>\n",
       "  </tbody>\n",
       "</table>\n",
       "</div>"
      ],
      "text/plain": [
       "      price  minimum_nights  number_of_reviews  reviews_per_month  calculated_host_listings_count  availability_365\n",
       "0.25   69.0             1.0                1.0               0.04                             1.0               0.0\n",
       "0.50  106.0             3.0                5.0               0.37                             1.0              45.0\n",
       "0.75  175.0             5.0               24.0               1.58                             2.0             227.0\n",
       "0.95  355.0            30.0              114.0               4.31                            15.0             359.0\n",
       "0.99  799.0            45.0              214.0               6.80                           232.0             365.0"
      ]
     },
     "execution_count": 83,
     "metadata": {},
     "output_type": "execute_result"
    }
   ],
   "source": [
    "outlier_Ananlysis"
   ]
  },
  {
   "cell_type": "markdown",
   "id": "b7f29718",
   "metadata": {},
   "source": [
    "##### We can take 99percentile as cutt off and remove the Outliers."
   ]
  },
  {
   "cell_type": "code",
   "execution_count": 84,
   "id": "e7d4968e",
   "metadata": {},
   "outputs": [
    {
     "name": "stdout",
     "output_type": "stream",
     "text": [
      "799.0\n",
      "45.0\n",
      "214.0\n",
      "6.8\n",
      "232.0\n",
      "365.0\n"
     ]
    }
   ],
   "source": [
    "for i in outlier_Ananlysis.columns:\n",
    "    print(outlier_Ananlysis[i][0.99])\n",
    "    airbnb_data=airbnb_data[airbnb_data[i]<=outlier_Ananlysis[i][0.99]]"
   ]
  },
  {
   "cell_type": "code",
   "execution_count": 85,
   "id": "fe07ecf4",
   "metadata": {},
   "outputs": [
    {
     "data": {
      "text/html": [
       "<div>\n",
       "<style scoped>\n",
       "    .dataframe tbody tr th:only-of-type {\n",
       "        vertical-align: middle;\n",
       "    }\n",
       "\n",
       "    .dataframe tbody tr th {\n",
       "        vertical-align: top;\n",
       "    }\n",
       "\n",
       "    .dataframe thead th {\n",
       "        text-align: right;\n",
       "    }\n",
       "</style>\n",
       "<table border=\"1\" class=\"dataframe\">\n",
       "  <thead>\n",
       "    <tr style=\"text-align: right;\">\n",
       "      <th></th>\n",
       "      <th>price</th>\n",
       "      <th>minimum_nights</th>\n",
       "      <th>number_of_reviews</th>\n",
       "      <th>reviews_per_month</th>\n",
       "      <th>calculated_host_listings_count</th>\n",
       "      <th>availability_365</th>\n",
       "    </tr>\n",
       "  </thead>\n",
       "  <tbody>\n",
       "    <tr>\n",
       "      <th>count</th>\n",
       "      <td>46751.000000</td>\n",
       "      <td>46751.000000</td>\n",
       "      <td>46751.000000</td>\n",
       "      <td>46751.000000</td>\n",
       "      <td>46751.000000</td>\n",
       "      <td>46751.000000</td>\n",
       "    </tr>\n",
       "    <tr>\n",
       "      <th>mean</th>\n",
       "      <td>137.272144</td>\n",
       "      <td>5.763192</td>\n",
       "      <td>20.689269</td>\n",
       "      <td>0.997857</td>\n",
       "      <td>5.033176</td>\n",
       "      <td>109.046630</td>\n",
       "    </tr>\n",
       "    <tr>\n",
       "      <th>std</th>\n",
       "      <td>103.772163</td>\n",
       "      <td>8.436480</td>\n",
       "      <td>35.689302</td>\n",
       "      <td>1.347097</td>\n",
       "      <td>20.100660</td>\n",
       "      <td>130.371889</td>\n",
       "    </tr>\n",
       "    <tr>\n",
       "      <th>min</th>\n",
       "      <td>0.000000</td>\n",
       "      <td>1.000000</td>\n",
       "      <td>0.000000</td>\n",
       "      <td>0.000000</td>\n",
       "      <td>1.000000</td>\n",
       "      <td>0.000000</td>\n",
       "    </tr>\n",
       "    <tr>\n",
       "      <th>25%</th>\n",
       "      <td>69.000000</td>\n",
       "      <td>1.000000</td>\n",
       "      <td>1.000000</td>\n",
       "      <td>0.040000</td>\n",
       "      <td>1.000000</td>\n",
       "      <td>0.000000</td>\n",
       "    </tr>\n",
       "    <tr>\n",
       "      <th>50%</th>\n",
       "      <td>105.000000</td>\n",
       "      <td>3.000000</td>\n",
       "      <td>5.000000</td>\n",
       "      <td>0.360000</td>\n",
       "      <td>1.000000</td>\n",
       "      <td>38.000000</td>\n",
       "    </tr>\n",
       "    <tr>\n",
       "      <th>75%</th>\n",
       "      <td>175.000000</td>\n",
       "      <td>5.000000</td>\n",
       "      <td>23.000000</td>\n",
       "      <td>1.490000</td>\n",
       "      <td>2.000000</td>\n",
       "      <td>215.000000</td>\n",
       "    </tr>\n",
       "    <tr>\n",
       "      <th>max</th>\n",
       "      <td>799.000000</td>\n",
       "      <td>45.000000</td>\n",
       "      <td>214.000000</td>\n",
       "      <td>6.800000</td>\n",
       "      <td>232.000000</td>\n",
       "      <td>365.000000</td>\n",
       "    </tr>\n",
       "  </tbody>\n",
       "</table>\n",
       "</div>"
      ],
      "text/plain": [
       "              price  minimum_nights  number_of_reviews  reviews_per_month  calculated_host_listings_count  availability_365\n",
       "count  46751.000000    46751.000000       46751.000000       46751.000000                    46751.000000      46751.000000\n",
       "mean     137.272144        5.763192          20.689269           0.997857                        5.033176        109.046630\n",
       "std      103.772163        8.436480          35.689302           1.347097                       20.100660        130.371889\n",
       "min        0.000000        1.000000           0.000000           0.000000                        1.000000          0.000000\n",
       "25%       69.000000        1.000000           1.000000           0.040000                        1.000000          0.000000\n",
       "50%      105.000000        3.000000           5.000000           0.360000                        1.000000         38.000000\n",
       "75%      175.000000        5.000000          23.000000           1.490000                        2.000000        215.000000\n",
       "max      799.000000       45.000000         214.000000           6.800000                      232.000000        365.000000"
      ]
     },
     "execution_count": 85,
     "metadata": {},
     "output_type": "execute_result"
    }
   ],
   "source": [
    "airbnb_data[['price','minimum_nights','number_of_reviews','reviews_per_month','calculated_host_listings_count','availability_365']].describe()"
   ]
  },
  {
   "cell_type": "code",
   "execution_count": 86,
   "id": "6bc6f4d6",
   "metadata": {},
   "outputs": [
    {
     "data": {
      "image/png": "[encoded data removed]",
      "text/plain": [
       "<Figure size 432x288 with 1 Axes>"
      ]
     },
     "metadata": {
      "needs_background": "light"
     },
     "output_type": "display_data"
    },
    {
     "data": {
      "image/png": "[encoded data removed]",
      "text/plain": [
       "<Figure size 432x288 with 1 Axes>"
      ]
     },
     "metadata": {
      "needs_background": "light"
     },
     "output_type": "display_data"
    },
    {
     "data": {
      "image/png": "[encoded data removed]",
      "text/plain": [
       "<Figure size 432x288 with 1 Axes>"
      ]
     },
     "metadata": {
      "needs_background": "light"
     },
     "output_type": "display_data"
    },
    {
     "data": {
      "image/png": "[encoded data removed]",
      "text/plain": [
       "<Figure size 432x288 with 1 Axes>"
      ]
     },
     "metadata": {
      "needs_background": "light"
     },
     "output_type": "display_data"
    },
    {
     "data": {
      "image/png": "[encoded data removed]",
      "text/plain": [
       "<Figure size 432x288 with 1 Axes>"
      ]
     },
     "metadata": {
      "needs_background": "light"
     },
     "output_type": "display_data"
    },
    {
     "data": {
      "image/png": "[encoded data removed]",
      "text/plain": [
       "<Figure size 432x288 with 1 Axes>"
      ]
     },
     "metadata": {
      "needs_background": "light"
     },
     "output_type": "display_data"
    }
   ],
   "source": [
    "#Detecting Outliers through box plots for the ones which has IQR more than zero\n",
    "for i in outlier_Ananlysis.columns:\n",
    "    sns.boxplot(airbnb_data[i])\n",
    "    plt.show()"
   ]
  },
  {
   "cell_type": "code",
   "execution_count": null,
   "id": "e047650c",
   "metadata": {},
   "outputs": [],
   "source": [
    "airbnb_data.to_csv(r'C:\\Swarna\\Upgrad DS\\Tableau\\Case Study\\AB_NYC_2019_processed.csv',index=False)"
   ]
  },
  {
   "cell_type": "markdown",
   "id": "210aaf7c",
   "metadata": {},
   "source": [
    "# ******************END********************"
   ]
  }
 ],
 "metadata": {
  "kernelspec": {
   "display_name": "Python 3 (ipykernel)",
   "language": "python",
   "name": "python3"
  },
  "language_info": {
   "codemirror_mode": {
    "name": "ipython",
    "version": 3
   },
   "file_extension": ".py",
   "mimetype": "text/x-python",
   "name": "python",
   "nbconvert_exporter": "python",
   "pygments_lexer": "ipython3",
   "version": "3.9.7"
  }
 },
 "nbformat": 4,
 "nbformat_minor": 5
}
